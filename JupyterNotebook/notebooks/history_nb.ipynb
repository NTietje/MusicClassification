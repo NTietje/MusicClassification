{
 "cells": [
  {
   "cell_type": "code",
   "execution_count": 2,
   "id": "533642b8",
   "metadata": {},
   "outputs": [],
   "source": [
    "import pickle\n",
    "\n",
    "\n",
    "class History_trained_model(object):\n",
    "    \"\"\" Creates an History_trained_model out of the a keras history object.\n",
    "    The created model can be saved as JSON.\n",
    "\n",
    "    Parameters\n",
    "    ----------\n",
    "    object : history, epoch and params of the keras history object.   \n",
    "\n",
    "    \"\"\"\n",
    "    def __init__(self, history, epoch, params):\n",
    "        self.history = history\n",
    "        self.epoch = epoch\n",
    "        self.params = params\n",
    "\n",
    "        \n",
    "def load_history(filename):\n",
    "    \"\"\"Loads and returns the JSON object as History_trained_model.\n",
    "    The given filename have to match the JSON object name.\n",
    "\n",
    "    Parameters\n",
    "    ----------\n",
    "    filename : str   \n",
    "\n",
    "    Returns\n",
    "    -------\n",
    "    history : history object\n",
    "    \"\"\"\n",
    "    with open('../histories/' + filename + '.json', 'rb') as file:\n",
    "        history = pickle.load(file)\n",
    "    return history\n",
    "\n",
    "\n",
    "def save_history(history, filename):\n",
    "    \"\"\"Saves the models history as History_trained_model.\n",
    "\n",
    "    Parameters\n",
    "    ----------\n",
    "    history : history objects  \n",
    "    filename : str\n",
    "    \"\"\"\n",
    "    with open('../histories/' + filename + '.json', 'wb') as file:\n",
    "        model_history = History_trained_model(history.history, history.epoch, history.params)\n",
    "        pickle.dump(model_history, file, pickle.HIGHEST_PROTOCOL)"
   ]
  }
 ],
 "metadata": {
  "kernelspec": {
   "display_name": "Python 3.7 (tensor)",
   "language": "python",
   "name": "tensor"
  },
  "language_info": {
   "codemirror_mode": {
    "name": "ipython",
    "version": 3
   },
   "file_extension": ".py",
   "mimetype": "text/x-python",
   "name": "python",
   "nbconvert_exporter": "python",
   "pygments_lexer": "ipython3",
   "version": "3.7.10"
  }
 },
 "nbformat": 4,
 "nbformat_minor": 5
}
